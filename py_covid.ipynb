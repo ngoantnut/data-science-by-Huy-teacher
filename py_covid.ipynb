{
  "cells": [
    {
      "cell_type": "markdown",
      "metadata": {
        "id": "view-in-github",
        "colab_type": "text"
      },
      "source": [
        "<a href=\"https://colab.research.google.com/github/ngoantnut/data-science-by-Huy-teacher/blob/master/py_covid.ipynb\" target=\"_parent\"><img src=\"https://colab.research.google.com/assets/colab-badge.svg\" alt=\"Open In Colab\"/></a>"
      ]
    },
    {
      "cell_type": "code",
      "execution_count": null,
      "metadata": {
        "id": "mkycv2rxKYQw"
      },
      "outputs": [],
      "source": [
        " # import libraries\n",
        "import numpy as np\n",
        "import pandas as pd\n",
        "import matplotlib.pyplot as plt"
      ]
    },
    {
      "cell_type": "code",
      "execution_count": null,
      "metadata": {
        "id": "2l9sBA5vKYQ0",
        "outputId": "33fc706e-afa8-407b-f64d-ff7bf5b002c5"
      },
      "outputs": [
        {
          "data": {
            "text/html": [
              "<div>\n",
              "<style scoped>\n",
              "    .dataframe tbody tr th:only-of-type {\n",
              "        vertical-align: middle;\n",
              "    }\n",
              "\n",
              "    .dataframe tbody tr th {\n",
              "        vertical-align: top;\n",
              "    }\n",
              "\n",
              "    .dataframe thead th {\n",
              "        text-align: right;\n",
              "    }\n",
              "</style>\n",
              "<table border=\"1\" class=\"dataframe\">\n",
              "  <thead>\n",
              "    <tr style=\"text-align: right;\">\n",
              "      <th></th>\n",
              "      <th>Date</th>\n",
              "      <th>Country/Region</th>\n",
              "      <th>Province/State</th>\n",
              "      <th>Confirmed</th>\n",
              "      <th>Recovered</th>\n",
              "      <th>Deaths</th>\n",
              "    </tr>\n",
              "  </thead>\n",
              "  <tbody>\n",
              "    <tr>\n",
              "      <th>0</th>\n",
              "      <td>2020-01-22</td>\n",
              "      <td>Afghanistan</td>\n",
              "      <td>NaN</td>\n",
              "      <td>0</td>\n",
              "      <td>0.0</td>\n",
              "      <td>0</td>\n",
              "    </tr>\n",
              "    <tr>\n",
              "      <th>1</th>\n",
              "      <td>2020-01-23</td>\n",
              "      <td>Afghanistan</td>\n",
              "      <td>NaN</td>\n",
              "      <td>0</td>\n",
              "      <td>0.0</td>\n",
              "      <td>0</td>\n",
              "    </tr>\n",
              "    <tr>\n",
              "      <th>2</th>\n",
              "      <td>2020-01-24</td>\n",
              "      <td>Afghanistan</td>\n",
              "      <td>NaN</td>\n",
              "      <td>0</td>\n",
              "      <td>0.0</td>\n",
              "      <td>0</td>\n",
              "    </tr>\n",
              "    <tr>\n",
              "      <th>3</th>\n",
              "      <td>2020-01-25</td>\n",
              "      <td>Afghanistan</td>\n",
              "      <td>NaN</td>\n",
              "      <td>0</td>\n",
              "      <td>0.0</td>\n",
              "      <td>0</td>\n",
              "    </tr>\n",
              "    <tr>\n",
              "      <th>4</th>\n",
              "      <td>2020-01-26</td>\n",
              "      <td>Afghanistan</td>\n",
              "      <td>NaN</td>\n",
              "      <td>0</td>\n",
              "      <td>0.0</td>\n",
              "      <td>0</td>\n",
              "    </tr>\n",
              "    <tr>\n",
              "      <th>...</th>\n",
              "      <td>...</td>\n",
              "      <td>...</td>\n",
              "      <td>...</td>\n",
              "      <td>...</td>\n",
              "      <td>...</td>\n",
              "      <td>...</td>\n",
              "    </tr>\n",
              "    <tr>\n",
              "      <th>231739</th>\n",
              "      <td>2022-04-12</td>\n",
              "      <td>Zimbabwe</td>\n",
              "      <td>NaN</td>\n",
              "      <td>247094</td>\n",
              "      <td>0.0</td>\n",
              "      <td>5460</td>\n",
              "    </tr>\n",
              "    <tr>\n",
              "      <th>231740</th>\n",
              "      <td>2022-04-13</td>\n",
              "      <td>Zimbabwe</td>\n",
              "      <td>NaN</td>\n",
              "      <td>247160</td>\n",
              "      <td>0.0</td>\n",
              "      <td>5460</td>\n",
              "    </tr>\n",
              "    <tr>\n",
              "      <th>231741</th>\n",
              "      <td>2022-04-14</td>\n",
              "      <td>Zimbabwe</td>\n",
              "      <td>NaN</td>\n",
              "      <td>247208</td>\n",
              "      <td>0.0</td>\n",
              "      <td>5462</td>\n",
              "    </tr>\n",
              "    <tr>\n",
              "      <th>231742</th>\n",
              "      <td>2022-04-15</td>\n",
              "      <td>Zimbabwe</td>\n",
              "      <td>NaN</td>\n",
              "      <td>247237</td>\n",
              "      <td>0.0</td>\n",
              "      <td>5462</td>\n",
              "    </tr>\n",
              "    <tr>\n",
              "      <th>231743</th>\n",
              "      <td>2022-04-16</td>\n",
              "      <td>Zimbabwe</td>\n",
              "      <td>NaN</td>\n",
              "      <td>247237</td>\n",
              "      <td>0.0</td>\n",
              "      <td>5462</td>\n",
              "    </tr>\n",
              "  </tbody>\n",
              "</table>\n",
              "<p>231744 rows × 6 columns</p>\n",
              "</div>"
            ],
            "text/plain": [
              "              Date Country/Region Province/State  Confirmed  Recovered  Deaths\n",
              "0       2020-01-22    Afghanistan            NaN          0        0.0       0\n",
              "1       2020-01-23    Afghanistan            NaN          0        0.0       0\n",
              "2       2020-01-24    Afghanistan            NaN          0        0.0       0\n",
              "3       2020-01-25    Afghanistan            NaN          0        0.0       0\n",
              "4       2020-01-26    Afghanistan            NaN          0        0.0       0\n",
              "...            ...            ...            ...        ...        ...     ...\n",
              "231739  2022-04-12       Zimbabwe            NaN     247094        0.0    5460\n",
              "231740  2022-04-13       Zimbabwe            NaN     247160        0.0    5460\n",
              "231741  2022-04-14       Zimbabwe            NaN     247208        0.0    5462\n",
              "231742  2022-04-15       Zimbabwe            NaN     247237        0.0    5462\n",
              "231743  2022-04-16       Zimbabwe            NaN     247237        0.0    5462\n",
              "\n",
              "[231744 rows x 6 columns]"
            ]
          },
          "execution_count": 143,
          "metadata": {},
          "output_type": "execute_result"
        }
      ],
      "source": [
        "# read csv file and save to dataframe\n",
        "df_covid = pd.read_csv(\"covid.csv\")\n",
        "df_covid"
      ]
    },
    {
      "cell_type": "code",
      "execution_count": null,
      "metadata": {
        "id": "5nXQXwS7KYQ2",
        "outputId": "8c0a31ab-1aea-4913-ad6b-12ecb8904480"
      },
      "outputs": [
        {
          "name": "stderr",
          "output_type": "stream",
          "text": [
            "D:\\download\\ana\\envs\\Huan\\lib\\site-packages\\ipykernel_launcher.py:2: SettingWithCopyWarning: \n",
            "A value is trying to be set on a copy of a slice from a DataFrame\n",
            "\n",
            "See the caveats in the documentation: https://pandas.pydata.org/pandas-docs/stable/user_guide/indexing.html#returning-a-view-versus-a-copy\n",
            "  \n"
          ]
        },
        {
          "data": {
            "text/plain": [
              "0         1\n",
              "1         1\n",
              "2         1\n",
              "3         1\n",
              "4         1\n",
              "         ..\n",
              "231739    4\n",
              "231740    4\n",
              "231741    4\n",
              "231742    4\n",
              "231743    4\n",
              "Name: Date, Length: 231744, dtype: int64"
            ]
          },
          "execution_count": 144,
          "metadata": {},
          "output_type": "execute_result"
        }
      ],
      "source": [
        "# Tiền xử lý dữ liệu\n",
        "df_covid.Recovered[df_covid.Recovered.isna()] = 0\n",
        "df_covid[\"Date\"] = pd.to_datetime(df_covid[\"Date\"])\n",
        "df_covid[\"Date\"].dt.month"
      ]
    },
    {
      "cell_type": "code",
      "execution_count": null,
      "metadata": {
        "id": "K5q8mIAGKYQ2"
      },
      "outputs": [],
      "source": [
        "# Input year and country\n",
        "input_year = int(input(\"Nhập vào một năm từ 2019 đến 2022: \"))\n",
        "input_country = input(\"Nhập tên một nước bất kỳ: \")"
      ]
    },
    {
      "cell_type": "code",
      "execution_count": null,
      "metadata": {
        "id": "tg-TTpfFKYQ3"
      },
      "outputs": [],
      "source": [
        "#df_covid[df_covid.Date.dt.is_month_end]\n",
        "data_total_world = df_covid[((df_covid.Date.dt.year == input_year) & (df_covid.Date.dt.is_month_end))]"
      ]
    },
    {
      "cell_type": "code",
      "execution_count": null,
      "metadata": {
        "id": "DG4t6bVyKYQ4"
      },
      "outputs": [],
      "source": [
        "# Declare 3 array\n",
        "# In the world\n",
        "world_confirmed = np.zeros(12, dtype=int)\n",
        "world_recovered = np.zeros(12, dtype= int)\n",
        "world_deaths = np.zeros(12, dtype= int)\n",
        "world_not_recovered = np.zeros(12, dtype=int)\n",
        "\n",
        "# In a country\n",
        "country_confirmed = np.zeros(12, dtype=int)\n",
        "country_recovered = np.zeros(12, dtype= int)\n",
        "country_deaths = np.zeros(12, dtype= int)\n",
        "country_not_recovered = np.zeros(12, dtype=int)\n",
        "\n",
        "#in Viet Nam\n",
        "vietnam_confirmed = np.zeros(12, dtype=int)\n",
        "vietnam_deaths = np.zeros(12, dtype=int)\n",
        "\n"
      ]
    },
    {
      "cell_type": "code",
      "execution_count": null,
      "metadata": {
        "id": "utGKbodBKYQ4",
        "outputId": "a3a27309-6f5a-4d6d-ce6b-e43838ec9489"
      },
      "outputs": [
        {
          "data": {
            "text/plain": [
              "array([   2,   16,  212,  270,  328,  355,  558, 1044, 1094, 1180, 1347,\n",
              "       1465])"
            ]
          },
          "execution_count": 148,
          "metadata": {},
          "output_type": "execute_result"
        }
      ],
      "source": [
        "for thang in range(12):\n",
        "    # World\n",
        "    data_thang = data_total_world[data_total_world.Date.dt.month == thang+1]\n",
        "    world_confirmed[thang] = data_thang.Confirmed.sum()\n",
        "    world_recovered[thang] = data_thang.Recovered.sum()\n",
        "    world_deaths[thang] = data_thang.Deaths.sum()\n",
        "    # Country\n",
        "    country_confirmed[thang] = data_thang[data_thang[\"Country/Region\"].str.lower() == input_country.lower()].Confirmed\n",
        "    country_recovered[thang] = data_thang[data_thang[\"Country/Region\"].str.lower() == input_country.lower()].Recovered\n",
        "    country_deaths[thang] = data_thang[data_thang[\"Country/Region\"].str.lower() == input_country.lower()].Deaths\n",
        "\n",
        "    #vietnam\n",
        "    vietnam_confirmed[thang] = data_thang[data_thang[\"Country/Region\"] == \"Vietnam\"].Confirmed\n",
        "    vietnam_deaths[thang] = data_thang[data_thang[\"Country/Region\"] == \"Vietnam\"].Deaths\n",
        "\n",
        "world_recovered\n",
        "country_confirmed"
      ]
    },
    {
      "cell_type": "code",
      "execution_count": null,
      "metadata": {
        "id": "D5GrVNTjKYQ6",
        "outputId": "b976fd92-2689-4118-cc0d-4a151afc52f0"
      },
      "outputs": [
        {
          "data": {
            "text/plain": [
              "<matplotlib.legend.Legend at 0x278148d5388>"
            ]
          },
          "execution_count": 149,
          "metadata": {},
          "output_type": "execute_result"
        },
        {
          "data": {
            "image/png": "[encoded data removed]",
            "text/plain": [
              "<Figure size 432x288 with 1 Axes>"
            ]
          },
          "metadata": {
            "needs_background": "light"
          },
          "output_type": "display_data"
        }
      ],
      "source": [
        "\n",
        "plt.plot(world_confirmed, label = \"Confirmed\")\n",
        "plt.plot(world_deaths, color =\"red\", label = \"Deaths\")\n",
        "plt.plot(world_recovered, color = \"green\", label = \"Recovered\")\n",
        "\n",
        "plt.suptitle('Biểu đồ covid thế giới năm '+ str(input_year))\n",
        "plt.legend()"
      ]
    },
    {
      "cell_type": "code",
      "execution_count": null,
      "metadata": {
        "id": "ZMXeVPa6KYQ6",
        "outputId": "ac1ac981-1a4a-4b1a-ea32-27945cfa478e"
      },
      "outputs": [
        {
          "data": {
            "text/plain": [
              "<matplotlib.legend.Legend at 0x27814b2aac8>"
            ]
          },
          "execution_count": 150,
          "metadata": {},
          "output_type": "execute_result"
        },
        {
          "data": {
            "image/png": "[encoded data removed]",
            "text/plain": [
              "<Figure size 1080x360 with 3 Axes>"
            ]
          },
          "metadata": {
            "needs_background": "light"
          },
          "output_type": "display_data"
        }
      ],
      "source": [
        "fig, (ax1, ax2, ax3) = plt.subplots(1, 3, figsize =(15,5))\n",
        "ax1.plot(country_confirmed, label = \"Confirmed\")\n",
        "ax2.plot(country_deaths, color =\"red\", label = \"Deaths\")\n",
        "ax3.plot(country_recovered, color = \"green\", label = \"Recovered\")\n",
        "\n",
        "plt.suptitle('Biểu đồ covid '+input_country+' năm '+ str(input_year))\n",
        "plt.legend()"
      ]
    },
    {
      "cell_type": "code",
      "execution_count": null,
      "metadata": {
        "id": "jSdk1XdnKYQ7",
        "outputId": "bc5ce6fe-a43d-4fbf-d5e9-60dac0238e90"
      },
      "outputs": [
        {
          "name": "stdout",
          "output_type": "stream",
          "text": [
            "2020\n",
            "2021\n",
            "2022\n"
          ]
        }
      ],
      "source": [
        "data_vietnam = df_covid[df_covid[\"Country/Region\"]==\"Vietnam\"]\n",
        "data_confirmed_vietnam_by_year = []\n",
        "data_recovered_vietnam_by_year = []\n",
        "data_deaths_vietnam_by_year = []\n",
        "for nam in data_vietnam.Date.dt.year.unique():\n",
        "    print(nam)\n",
        "    data_confirmed = data_vietnam[data_vietnam.Date.dt.year == nam].Confirmed.max()\n",
        "    data_recovered = data_vietnam[data_vietnam.Date.dt.year == nam].Recovered.max()\n",
        "    data_deaths = data_vietnam[data_vietnam.Date.dt.year == nam].Deaths.max()\n",
        "\n",
        "    data_confirmed_vietnam_by_year.append(data_confirmed)\n",
        "    data_recovered_vietnam_by_year.append(data_recovered)\n",
        "    data_deaths_vietnam_by_year.append(data_deaths)\n",
        "\n"
      ]
    },
    {
      "cell_type": "code",
      "execution_count": null,
      "metadata": {
        "id": "IWr2mobyKYQ8",
        "outputId": "9fe14a19-fb94-4ede-833c-956b847de53a"
      },
      "outputs": [
        {
          "name": "stdout",
          "output_type": "stream",
          "text": [
            "[2020 2021 2022]\n"
          ]
        },
        {
          "data": {
            "text/plain": [
              "<matplotlib.legend.Legend at 0x27816a94348>"
            ]
          },
          "execution_count": 152,
          "metadata": {},
          "output_type": "execute_result"
        },
        {
          "data": {
            "image/png": "[encoded data removed]",
            "text/plain": [
              "<Figure size 1080x360 with 3 Axes>"
            ]
          },
          "metadata": {
            "needs_background": "light"
          },
          "output_type": "display_data"
        }
      ],
      "source": [
        "years = data_vietnam.Date.dt.year.unique()\n",
        "print(years)\n",
        "fig, (ax1, ax2, ax3) = plt.subplots(1, 3, figsize =(15,5))\n",
        "ax1.plot(years,data_confirmed_vietnam_by_year, label = \"Confirmed\")\n",
        "ax2.plot(years,data_recovered_vietnam_by_year, color =\"red\", label = \"Deaths\")\n",
        "ax3.plot(years,data_deaths_vietnam_by_year, color = \"green\", label = \"Recovered\")\n",
        "\n",
        "plt.suptitle('Biểu đồ covid Việt Nam qua các năm ')\n",
        "plt.legend()"
      ]
    },
    {
      "cell_type": "code",
      "execution_count": null,
      "metadata": {
        "id": "ma1G83QDKYQ9",
        "outputId": "35236cf7-5299-4e04-ff1d-95f792a516c1"
      },
      "outputs": [
        {
          "name": "stdout",
          "output_type": "stream",
          "text": [
            "[   2   16  212  270  328  355  558 1044 1094 1180 1347 1465]\n",
            "(array([7], dtype=int64),)\n"
          ]
        }
      ],
      "source": [
        "print(vietnam_confirmed)\n",
        "data_confirmed = np.roll(vietnam_confirmed,1)\n",
        "data_confirmed[0] = 0\n",
        "vietnam_confirmed -= data_confirmed\n",
        "max_val = vietnam_confirmed.max()\n",
        "max_index = np.where(vietnam_confirmed == max_val)\n",
        "print(max_index)"
      ]
    },
    {
      "cell_type": "code",
      "execution_count": null,
      "metadata": {
        "id": "M7JIWwxMKYQ9",
        "outputId": "6fb6468b-082d-4f2c-f1d7-eb2d00a1f0c6"
      },
      "outputs": [
        {
          "name": "stdout",
          "output_type": "stream",
          "text": [
            "[ 0  0  0  0  0  0  3 34 35 35 35 35]\n",
            "(array([ 0,  1,  2,  3,  4,  5,  9, 10, 11], dtype=int64),)\n"
          ]
        }
      ],
      "source": [
        "print(vietnam_deaths)\n",
        "dat_deaths = np.roll(vietnam_deaths,1)\n",
        "dat_deaths[0] = 0\n",
        "vietnam_deaths -= dat_deaths\n",
        "min_val = vietnam_deaths.min()\n",
        "min_index= np.where(vietnam_deaths==min_val)\n",
        "print(min_index)"
      ]
    }
  ],
  "metadata": {
    "interpreter": {
      "hash": "6d73370e2e80a74c662e9cba80df9a87118dd0f0a3d969f7580bae219c567f22"
    },
    "kernelspec": {
      "display_name": "Python 3.7.11 ('Huan')",
      "language": "python",
      "name": "python3"
    },
    "language_info": {
      "codemirror_mode": {
        "name": "ipython",
        "version": 3
      },
      "file_extension": ".py",
      "mimetype": "text/x-python",
      "name": "python",
      "nbconvert_exporter": "python",
      "pygments_lexer": "ipython3",
      "version": "3.7.11"
    },
    "orig_nbformat": 4,
    "colab": {
      "name": "py_covid.ipynb",
      "provenance": [],
      "include_colab_link": true
    }
  },
  "nbformat": 4,
  "nbformat_minor": 0
}