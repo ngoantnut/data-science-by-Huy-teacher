{
  "nbformat": 4,
  "nbformat_minor": 0,
  "metadata": {
    "colab": {
      "name": "word.ipynb",
      "provenance": [],
      "authorship_tag": "ABX9TyM4UEagjPxpu9JMKZMAIA7W",
      "include_colab_link": true
    },
    "kernelspec": {
      "name": "python3",
      "display_name": "Python 3"
    },
    "language_info": {
      "name": "python"
    }
  },
  "cells": [
    {
      "cell_type": "markdown",
      "metadata": {
        "id": "view-in-github",
        "colab_type": "text"
      },
      "source": [
        "<a href=\"https://colab.research.google.com/github/ngoantnut/data-science-by-Huy-teacher/blob/master/word.ipynb\" target=\"_parent\"><img src=\"https://colab.research.google.com/assets/colab-badge.svg\" alt=\"Open In Colab\"/></a>"
      ]
    },
    {
      "cell_type": "code",
      "execution_count": 1,
      "metadata": {
        "colab": {
          "base_uri": "https://localhost:8080/"
        },
        "id": "jhinCmKxhkLK",
        "outputId": "f962da4e-c15e-4104-8ea8-5145f7a85bcf"
      },
      "outputs": [
        {
          "output_type": "stream",
          "name": "stdout",
          "text": [
            "<class 'pandas.core.frame.DataFrame'>\n",
            "RangeIndex: 23 entries, 0 to 22\n",
            "Data columns (total 3 columns):\n",
            " #   Column     Non-Null Count  Dtype \n",
            "---  ------     --------------  ----- \n",
            " 0   comment    23 non-null     object\n",
            " 1   sentiment  23 non-null     object\n",
            " 2   label      23 non-null     int64 \n",
            "dtypes: int64(1), object(2)\n",
            "memory usage: 680.0+ bytes\n",
            "None\n"
          ]
        }
      ],
      "source": [
        "# Bước 1: Load dữ liệu từ csv\n",
        "import pandas as pd\n",
        "data = pd.read_csv('https://raw.githubusercontent.com/huynguyen82/data-science/master/data_science/comment_dtvt2.csv',delimiter='\\t',encoding='utf-8')\n",
        "print(data.info())"
      ]
    },
    {
      "cell_type": "code",
      "source": [
        "X_train=data['comment']\n",
        "y_train=data['label']\n",
        "labels=['Khen','Hỏi','Chê']\n",
        "data.info"
      ],
      "metadata": {
        "colab": {
          "base_uri": "https://localhost:8080/"
        },
        "id": "iev6LTPihl58",
        "outputId": "85df9f6b-e56c-4f00-d034-e740bb68175d"
      },
      "execution_count": 4,
      "outputs": [
        {
          "output_type": "execute_result",
          "data": {
            "text/plain": [
              "<bound method DataFrame.info of                                               comment sentiment  label\n",
              "0                                    Thật tuyệt vời ạ      Khen      1\n",
              "1   Admin có thể chia sẻ chuyên sâu cho em về chuy...       Hỏi      2\n",
              "2     Tuyệt quá , ngành mình thực sự rất chất lượng ạ      Khen      1\n",
              "3          Cơ hội việc làm sau khi tốt nghiệp rất cao      Khen      1\n",
              "4   Hiện em đang tìm hiểu về ngành điện tử viễn th...       Hỏi      2\n",
              "5   Em muốn tìm hiểu thêm về ngành điện tử viễn th...       Hỏi      2\n",
              "6   Năm nay em đang học lớp 12 . Em đang tính sẽ h...       Hỏi      2\n",
              "7   Hiện em đang muốn vào ngành điện tử viễn thông...       Hỏi      2\n",
              "8   Năm nay em đăng học lớp 12 và có tìm hiểu về t...       Hỏi      2\n",
              "9   Mình tham khảo được chỉ phí học tập tại đây kh...      Khen      1\n",
              "10  Bài viết rất ý nghĩa ạ, đã giúp e giải đáp đượ...      Khen      1\n",
              "11  Thầy cô vui tính, thân thiện,nhiệt huyết với s...      Khen      1\n",
              "12  Tôi đang theo học ngành Điện tử viễn thông – K...      Khen      1\n",
              "13                      Bài viết rất hay và ý nghĩa ạ      Khen      1\n",
              "14  Bài viết rất hay và ý nghĩa em cảm ơn tất cả c...      Khen      1\n",
              "15  Bài viết chung chung quá không rõ dàng chỗ làm...       Chê      3\n",
              "16  giáo viên giảng dạy chuyên môn không cao, khó gần       Chê      3\n",
              "17  Bài giảng giáo viên dạy trên lớp đã cũ quá rồi...       Chê      3\n",
              "18  Lớp học thì được có vài bạn, học thấy không có...       Chê      3\n",
              "19  Thầy dày suốt ngày cho nghỉ và bắt đọc tài liệ...       Chê      3\n",
              "20           Học phí qua cao so với những gì được học       Chê      3\n",
              "21   Mình ra trường mấy năm rồi mà chưa xin được việc       Chê      3\n",
              "22            nghề này lương rất thấp đừng có vào học       Chê      3>"
            ]
          },
          "metadata": {},
          "execution_count": 4
        }
      ]
    },
    {
      "cell_type": "code",
      "source": [
        "# Khai model nhận dạng văn bản sử dụng:\n",
        "# TfidfVectorizer làm công cụ biến đổi 1 corpus (văn bản) đầu vào thành 1 vecror đặc trung dựa vào việc đếm tần xuất các từ\n",
        "# MultinomialNB làm model phân loại\n",
        "from sklearn.feature_extraction.text import TfidfVectorizer\n",
        "from sklearn.naive_bayes import MultinomialNB\n",
        "from sklearn.pipeline import make_pipeline\n",
        "# Model gồm 2 module: Dữ liệu văn bản được đưa vào module 1 là module trích chọn đặc trưng\n",
        "# Module 2 là module mô hinh hóa\n",
        "model = make_pipeline(TfidfVectorizer(), MultinomialNB())"
      ],
      "metadata": {
        "id": "ai1v1GSChopC"
      },
      "execution_count": 5,
      "outputs": []
    },
    {
      "cell_type": "code",
      "source": [
        "# Huấn luyện model\n",
        "model.fit(X_train,y_train)"
      ],
      "metadata": {
        "colab": {
          "base_uri": "https://localhost:8080/"
        },
        "id": "-TBgx3hRhp4w",
        "outputId": "86b36c30-7f9c-401a-fdab-7eed28da9485"
      },
      "execution_count": 6,
      "outputs": [
        {
          "output_type": "execute_result",
          "data": {
            "text/plain": [
              "Pipeline(steps=[('tfidfvectorizer', TfidfVectorizer()),\n",
              "                ('multinomialnb', MultinomialNB())])"
            ]
          },
          "metadata": {},
          "execution_count": 6
        }
      ]
    },
    {
      "cell_type": "code",
      "source": [
        "# Thử nghiệm model sau huấn luyện với 1 câu văn bản đầu vào\n",
        "dau_vao=['Ra trường về chăn bò thôi bạn']\n",
        "ket_qua=model.predict(dau_vao)\n",
        "nhan=labels[ket_qua[0]-1]\n",
        "print('Nội dung của comment thuộc loại: ' + nhan)"
      ],
      "metadata": {
        "colab": {
          "base_uri": "https://localhost:8080/"
        },
        "id": "2nY0d_schrHx",
        "outputId": "925548c3-bfba-48ed-f5c6-01221ee234d4"
      },
      "execution_count": 9,
      "outputs": [
        {
          "output_type": "stream",
          "name": "stdout",
          "text": [
            "Nội dung của comment thuộc loại: Chê\n"
          ]
        }
      ]
    },
    {
      "cell_type": "code",
      "source": [
        "# Liệt kê tên các bạn comment có nội dung chê trong file  \"comment_thcn2.csv\"\n",
        "# Bước 1: Dùng model đã huấn luyện ở trên để đoán nhãn cho tất cả các comment\n",
        "data_test=pd.read_csv('https://raw.githubusercontent.com/huynguyen82/data-science/master/data_science/comment_thcn2.csv',delimiter='\\t',encoding='utf-8')\n",
        "data_test['Predict']=model.predict(data_test['comment'])\n",
        "data_test.head"
      ],
      "metadata": {
        "colab": {
          "base_uri": "https://localhost:8080/"
        },
        "id": "fBp2ANG9hshY",
        "outputId": "12eead5f-6739-4c27-9f93-b751393a512d"
      },
      "execution_count": 10,
      "outputs": [
        {
          "output_type": "execute_result",
          "data": {
            "text/plain": [
              "<bound method NDFrame.head of                                              comment                  name  \\\n",
              "0  Rất đa dạng về nghành nghề, trong thời đại 4.0...       Lương Tuấn Diệp   \n",
              "1  Nếu bạn có đam mê với công nghệ – phần mềm, đặ...         Đoàn Văn Khải   \n",
              "2  Hãy đến với Chuyên Ngành Kĩ Thuật Máy Tính-FEE...  Hoàng Thị Yến Thuyên   \n",
              "3                                   Thật tuyệt vời ạ      Nguyễn Linh Linh   \n",
              "4  Bài viết rất hay và hữu ích, giáo viên bên kho...           Lý Thị Thảo   \n",
              "5  Em có câu hỏi mong thầy, cô giải đáp: Trong tư...      Nguyễn Văn Lương   \n",
              "6  Ngành Công nghệ Kỹ thuật Máy tính là ngành phố...           Đỗ Văn Hùng   \n",
              "7  Ngành này học chán lắm, phải rất giỏi toán mới...           Đỗ Văn Hùng   \n",
              "8  Thưa thầy cô. Hiện nay nghành kỹ thuật máy tín...           Đỗ Văn Luân   \n",
              "\n",
              "   Predict  \n",
              "0        1  \n",
              "1        1  \n",
              "2        1  \n",
              "3        1  \n",
              "4        1  \n",
              "5        1  \n",
              "6        1  \n",
              "7        3  \n",
              "8        2  >"
            ]
          },
          "metadata": {},
          "execution_count": 10
        }
      ]
    },
    {
      "cell_type": "code",
      "source": [
        "#labels=['Khen','Hỏi','Chê']\n",
        "# Liệt kê những bạn chê ngành học\n",
        "Che=data_test[data_test['Predict']==3]\n",
        "print('Danh sách các bạn chê ngành\\n')\n",
        "print(Che.info)\n",
        "# Liệt kê những bạn Khen ngành học\n",
        "Khen=data_test[data_test['Predict']==1]\n",
        "print('Danh sách các bạn khen ngành\\n')\n",
        "print(Khen.info)\n",
        "# Liệt kê những bạn đặt câu hỏi với ngành\n",
        "Hoi=data_test[data_test['Predict']==2]\n",
        "print('Danh sách các bạn đặt câu hỏi về ngành\\n')\n",
        "print(Hoi.info)"
      ],
      "metadata": {
        "colab": {
          "base_uri": "https://localhost:8080/"
        },
        "id": "gvs3U3CMht4u",
        "outputId": "54d47727-5b9e-4eeb-9df1-54ef7e574504"
      },
      "execution_count": 11,
      "outputs": [
        {
          "output_type": "stream",
          "name": "stdout",
          "text": [
            "Danh sách các bạn chê ngành\n",
            "\n",
            "<bound method DataFrame.info of                                              comment         name  Predict\n",
            "7  Ngành này học chán lắm, phải rất giỏi toán mới...  Đỗ Văn Hùng        3>\n",
            "Danh sách các bạn khen ngành\n",
            "\n",
            "<bound method DataFrame.info of                                              comment                  name  \\\n",
            "0  Rất đa dạng về nghành nghề, trong thời đại 4.0...       Lương Tuấn Diệp   \n",
            "1  Nếu bạn có đam mê với công nghệ – phần mềm, đặ...         Đoàn Văn Khải   \n",
            "2  Hãy đến với Chuyên Ngành Kĩ Thuật Máy Tính-FEE...  Hoàng Thị Yến Thuyên   \n",
            "3                                   Thật tuyệt vời ạ      Nguyễn Linh Linh   \n",
            "4  Bài viết rất hay và hữu ích, giáo viên bên kho...           Lý Thị Thảo   \n",
            "5  Em có câu hỏi mong thầy, cô giải đáp: Trong tư...      Nguyễn Văn Lương   \n",
            "6  Ngành Công nghệ Kỹ thuật Máy tính là ngành phố...           Đỗ Văn Hùng   \n",
            "\n",
            "   Predict  \n",
            "0        1  \n",
            "1        1  \n",
            "2        1  \n",
            "3        1  \n",
            "4        1  \n",
            "5        1  \n",
            "6        1  >\n",
            "Danh sách các bạn đặt câu hỏi về ngành\n",
            "\n",
            "<bound method DataFrame.info of                                              comment         name  Predict\n",
            "8  Thưa thầy cô. Hiện nay nghành kỹ thuật máy tín...  Đỗ Văn Luân        2>\n"
          ]
        }
      ]
    }
  ]
}